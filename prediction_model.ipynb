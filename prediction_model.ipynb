{
 "cells": [
  {
   "cell_type": "code",
   "execution_count": 2,
   "metadata": {},
   "outputs": [],
   "source": [
    "import numpy as np\n",
    "import pandas as pd\n",
    "import seaborn as sns\n",
    "import matplotlib.pyplot as plt"
   ]
  },
  {
   "cell_type": "code",
   "execution_count": 16,
   "metadata": {},
   "outputs": [
    {
     "name": "stderr",
     "output_type": "stream",
     "text": [
      "c:\\users\\kamlesh\\appdata\\local\\programs\\python\\python35\\lib\\site-packages\\ipykernel_launcher.py:1: FutureWarning: from_csv is deprecated. Please use read_csv(...) instead. Note that some of the default arguments are different, so please refer to the documentation for from_csv when changing your function calls\n",
      "  \"\"\"Entry point for launching an IPython kernel.\n"
     ]
    }
   ],
   "source": [
    "df=pd.DataFrame.from_csv('train.csv')"
   ]
  },
  {
   "cell_type": "code",
   "execution_count": 17,
   "metadata": {},
   "outputs": [
    {
     "data": {
      "text/html": [
       "<div>\n",
       "<style scoped>\n",
       "    .dataframe tbody tr th:only-of-type {\n",
       "        vertical-align: middle;\n",
       "    }\n",
       "\n",
       "    .dataframe tbody tr th {\n",
       "        vertical-align: top;\n",
       "    }\n",
       "\n",
       "    .dataframe thead th {\n",
       "        text-align: right;\n",
       "    }\n",
       "</style>\n",
       "<table border=\"1\" class=\"dataframe\">\n",
       "  <thead>\n",
       "    <tr style=\"text-align: right;\">\n",
       "      <th></th>\n",
       "      <th>target</th>\n",
       "      <th>var_d1</th>\n",
       "      <th>var_d2</th>\n",
       "      <th>var_d3</th>\n",
       "      <th>var_d4</th>\n",
       "      <th>var_d5</th>\n",
       "      <th>var_d6</th>\n",
       "      <th>var_d7</th>\n",
       "      <th>var_d8</th>\n",
       "      <th>var_d9</th>\n",
       "      <th>...</th>\n",
       "      <th>var_l_117</th>\n",
       "      <th>var_l_118</th>\n",
       "      <th>var_l_119</th>\n",
       "      <th>var_l_120</th>\n",
       "      <th>var_l_121</th>\n",
       "      <th>var_l_122</th>\n",
       "      <th>var_l_123</th>\n",
       "      <th>var_l_124</th>\n",
       "      <th>var_l_125</th>\n",
       "      <th>var_l_126</th>\n",
       "    </tr>\n",
       "    <tr>\n",
       "      <th>APP_ID_C</th>\n",
       "      <th></th>\n",
       "      <th></th>\n",
       "      <th></th>\n",
       "      <th></th>\n",
       "      <th></th>\n",
       "      <th></th>\n",
       "      <th></th>\n",
       "      <th></th>\n",
       "      <th></th>\n",
       "      <th></th>\n",
       "      <th></th>\n",
       "      <th></th>\n",
       "      <th></th>\n",
       "      <th></th>\n",
       "      <th></th>\n",
       "      <th></th>\n",
       "      <th></th>\n",
       "      <th></th>\n",
       "      <th></th>\n",
       "      <th></th>\n",
       "      <th></th>\n",
       "    </tr>\n",
       "  </thead>\n",
       "  <tbody>\n",
       "    <tr>\n",
       "      <th>app_1</th>\n",
       "      <td>0</td>\n",
       "      <td>Hit-6+ Vintage</td>\n",
       "      <td>816.0</td>\n",
       "      <td>RESIDENT INDIAN</td>\n",
       "      <td>Post-Graduate</td>\n",
       "      <td>M</td>\n",
       "      <td>RESIDENT INDIAN</td>\n",
       "      <td>SELF-EMPLOYED</td>\n",
       "      <td>Y</td>\n",
       "      <td>-11111</td>\n",
       "      <td>...</td>\n",
       "      <td>0.0</td>\n",
       "      <td>0.0</td>\n",
       "      <td>0.000000</td>\n",
       "      <td>0.0</td>\n",
       "      <td>0.0</td>\n",
       "      <td>0.0</td>\n",
       "      <td>0.000000</td>\n",
       "      <td>0.0</td>\n",
       "      <td>0.000000</td>\n",
       "      <td>0.0</td>\n",
       "    </tr>\n",
       "    <tr>\n",
       "      <th>app_2</th>\n",
       "      <td>0</td>\n",
       "      <td>NaN</td>\n",
       "      <td>841.0</td>\n",
       "      <td>RESIDENT INDIAN</td>\n",
       "      <td>Post-Graduate</td>\n",
       "      <td>F</td>\n",
       "      <td>RESIDENT INDIAN</td>\n",
       "      <td>SALARIED</td>\n",
       "      <td>N</td>\n",
       "      <td>-11111</td>\n",
       "      <td>...</td>\n",
       "      <td>0.0</td>\n",
       "      <td>0.0</td>\n",
       "      <td>0.000000</td>\n",
       "      <td>0.0</td>\n",
       "      <td>0.0</td>\n",
       "      <td>0.0</td>\n",
       "      <td>0.000000</td>\n",
       "      <td>0.0</td>\n",
       "      <td>0.000000</td>\n",
       "      <td>0.0</td>\n",
       "    </tr>\n",
       "    <tr>\n",
       "      <th>app_3</th>\n",
       "      <td>0</td>\n",
       "      <td>Hit-6+ Vintage</td>\n",
       "      <td>791.0</td>\n",
       "      <td>RESIDENT INDIAN</td>\n",
       "      <td>Post-Graduate</td>\n",
       "      <td>M</td>\n",
       "      <td>RESIDENT INDIAN</td>\n",
       "      <td>PROPRIETOR</td>\n",
       "      <td>Y</td>\n",
       "      <td>1</td>\n",
       "      <td>...</td>\n",
       "      <td>0.0</td>\n",
       "      <td>0.0</td>\n",
       "      <td>0.088235</td>\n",
       "      <td>0.0</td>\n",
       "      <td>0.1</td>\n",
       "      <td>0.0</td>\n",
       "      <td>0.011494</td>\n",
       "      <td>0.5</td>\n",
       "      <td>0.000000</td>\n",
       "      <td>0.0</td>\n",
       "    </tr>\n",
       "    <tr>\n",
       "      <th>app_4</th>\n",
       "      <td>0</td>\n",
       "      <td>Hit-6+ Vintage</td>\n",
       "      <td>821.0</td>\n",
       "      <td>RESIDENT INDIAN</td>\n",
       "      <td>Graduate</td>\n",
       "      <td>M</td>\n",
       "      <td>RESIDENT INDIAN</td>\n",
       "      <td>SELF-EMPLOYED</td>\n",
       "      <td>N</td>\n",
       "      <td>-11111</td>\n",
       "      <td>...</td>\n",
       "      <td>0.0</td>\n",
       "      <td>0.0</td>\n",
       "      <td>0.000000</td>\n",
       "      <td>0.0</td>\n",
       "      <td>0.0</td>\n",
       "      <td>0.0</td>\n",
       "      <td>0.000000</td>\n",
       "      <td>0.0</td>\n",
       "      <td>0.000000</td>\n",
       "      <td>0.0</td>\n",
       "    </tr>\n",
       "    <tr>\n",
       "      <th>app_5</th>\n",
       "      <td>0</td>\n",
       "      <td>Hit-6+ Vintage</td>\n",
       "      <td>807.0</td>\n",
       "      <td>RESIDENT INDIAN</td>\n",
       "      <td>Graduate</td>\n",
       "      <td>M</td>\n",
       "      <td>RESIDENT INDIAN</td>\n",
       "      <td>SALARIED</td>\n",
       "      <td>Y</td>\n",
       "      <td>0</td>\n",
       "      <td>...</td>\n",
       "      <td>0.0</td>\n",
       "      <td>0.0</td>\n",
       "      <td>0.000000</td>\n",
       "      <td>0.0</td>\n",
       "      <td>0.0</td>\n",
       "      <td>0.0</td>\n",
       "      <td>0.540541</td>\n",
       "      <td>0.0</td>\n",
       "      <td>0.285714</td>\n",
       "      <td>0.0</td>\n",
       "    </tr>\n",
       "  </tbody>\n",
       "</table>\n",
       "<p>5 rows × 165 columns</p>\n",
       "</div>"
      ],
      "text/plain": [
       "          target          var_d1  var_d2           var_d3         var_d4  \\\n",
       "APP_ID_C                                                                   \n",
       "app_1          0  Hit-6+ Vintage   816.0  RESIDENT INDIAN  Post-Graduate   \n",
       "app_2          0             NaN   841.0  RESIDENT INDIAN  Post-Graduate   \n",
       "app_3          0  Hit-6+ Vintage   791.0  RESIDENT INDIAN  Post-Graduate   \n",
       "app_4          0  Hit-6+ Vintage   821.0  RESIDENT INDIAN       Graduate   \n",
       "app_5          0  Hit-6+ Vintage   807.0  RESIDENT INDIAN       Graduate   \n",
       "\n",
       "         var_d5           var_d6         var_d7 var_d8  var_d9    ...      \\\n",
       "APP_ID_C                                                          ...       \n",
       "app_1         M  RESIDENT INDIAN  SELF-EMPLOYED      Y  -11111    ...       \n",
       "app_2         F  RESIDENT INDIAN       SALARIED      N  -11111    ...       \n",
       "app_3         M  RESIDENT INDIAN     PROPRIETOR      Y       1    ...       \n",
       "app_4         M  RESIDENT INDIAN  SELF-EMPLOYED      N  -11111    ...       \n",
       "app_5         M  RESIDENT INDIAN       SALARIED      Y       0    ...       \n",
       "\n",
       "         var_l_117  var_l_118  var_l_119  var_l_120  var_l_121  var_l_122  \\\n",
       "APP_ID_C                                                                    \n",
       "app_1          0.0        0.0   0.000000        0.0        0.0        0.0   \n",
       "app_2          0.0        0.0   0.000000        0.0        0.0        0.0   \n",
       "app_3          0.0        0.0   0.088235        0.0        0.1        0.0   \n",
       "app_4          0.0        0.0   0.000000        0.0        0.0        0.0   \n",
       "app_5          0.0        0.0   0.000000        0.0        0.0        0.0   \n",
       "\n",
       "          var_l_123  var_l_124  var_l_125  var_l_126  \n",
       "APP_ID_C                                              \n",
       "app_1      0.000000        0.0   0.000000        0.0  \n",
       "app_2      0.000000        0.0   0.000000        0.0  \n",
       "app_3      0.011494        0.5   0.000000        0.0  \n",
       "app_4      0.000000        0.0   0.000000        0.0  \n",
       "app_5      0.540541        0.0   0.285714        0.0  \n",
       "\n",
       "[5 rows x 165 columns]"
      ]
     },
     "execution_count": 17,
     "metadata": {},
     "output_type": "execute_result"
    }
   ],
   "source": [
    "df.head()"
   ]
  },
  {
   "cell_type": "code",
   "execution_count": 21,
   "metadata": {},
   "outputs": [
    {
     "name": "stdout",
     "output_type": "stream",
     "text": [
      "<class 'pandas.core.frame.DataFrame'>\n",
      "Index: 108940 entries, app_1 to app_108940\n",
      "Columns: 165 entries, target to var_l_126\n",
      "dtypes: float64(115), int64(42), object(8)\n",
      "memory usage: 138.0+ MB\n"
     ]
    }
   ],
   "source": [
    "df.info()"
   ]
  },
  {
   "cell_type": "code",
   "execution_count": 43,
   "metadata": {},
   "outputs": [
    {
     "data": {
      "text/plain": [
       "target           0\n",
       "var_d1       41105\n",
       "var_d2        6017\n",
       "var_d3        5799\n",
       "var_d4        1184\n",
       "var_d5        1181\n",
       "var_d6        1181\n",
       "var_d7        1748\n",
       "var_d8        1181\n",
       "var_d9           0\n",
       "var_d11          0\n",
       "var_b1           0\n",
       "var_b2           0\n",
       "var_b3           0\n",
       "var_b4           0\n",
       "var_b5           0\n",
       "var_b6           0\n",
       "var_b7           0\n",
       "var_b8           0\n",
       "var_b9           0\n",
       "var_b10          0\n",
       "var_b11          0\n",
       "var_b12          0\n",
       "var_b13          0\n",
       "var_b14          0\n",
       "var_b15          0\n",
       "var_b16          0\n",
       "var_b17          0\n",
       "var_b18          0\n",
       "var_b19          0\n",
       "             ...  \n",
       "var_l_97         0\n",
       "var_l_98         0\n",
       "var_l_99         0\n",
       "var_l_100        0\n",
       "var_l_101        0\n",
       "var_l_102        0\n",
       "var_l_103        0\n",
       "var_l_104        0\n",
       "var_l_105        0\n",
       "var_l_106        0\n",
       "var_l_107        0\n",
       "var_l_108        0\n",
       "var_l_109        0\n",
       "var_l_110        0\n",
       "var_l_111        0\n",
       "var_l_112        0\n",
       "var_l_113        0\n",
       "var_l_114        0\n",
       "var_l_115        0\n",
       "var_l_116        0\n",
       "var_l_117        0\n",
       "var_l_118        0\n",
       "var_l_119        0\n",
       "var_l_120        0\n",
       "var_l_121        0\n",
       "var_l_122        0\n",
       "var_l_123        0\n",
       "var_l_124        0\n",
       "var_l_125        0\n",
       "var_l_126        0\n",
       "Length: 165, dtype: int64"
      ]
     },
     "execution_count": 43,
     "metadata": {},
     "output_type": "execute_result"
    }
   ],
   "source": [
    "df.isnull().sum()"
   ]
  },
  {
   "cell_type": "code",
   "execution_count": 51,
   "metadata": {},
   "outputs": [
    {
     "name": "stdout",
     "output_type": "stream",
     "text": [
      "Hit-6+ Vintage    65536\n",
      "Hit-lt 6 Vinta     2299\n",
      "Name: var_d1, dtype: int64\n"
     ]
    },
    {
     "data": {
      "text/plain": [
       "<matplotlib.axes._subplots.AxesSubplot at 0x211a233e128>"
      ]
     },
     "execution_count": 51,
     "metadata": {},
     "output_type": "execute_result"
    },
    {
     "data": {
      "image/png": "[encoded data removed]",
      "text/plain": [
       "<Figure size 432x288 with 1 Axes>"
      ]
     },
     "metadata": {
      "needs_background": "light"
     },
     "output_type": "display_data"
    }
   ],
   "source": [
    "print(df['var_d1'].value_counts())\n",
    "sns.countplot(x='var_d1',data=df)"
   ]
  },
  {
   "cell_type": "code",
   "execution_count": 50,
   "metadata": {},
   "outputs": [
    {
     "name": "stdout",
     "output_type": "stream",
     "text": [
      "RESIDENT INDIAN              102450\n",
      "NON-RESIDENT INDIAN             647\n",
      "PRIVATE LTD COMPANIES            21\n",
      "PARTNERSHIP FIRM                 17\n",
      "PUBLIC LTD COMPANIES              4\n",
      "OVERSEAS CITIZEN OF INDIA         1\n",
      "SOLE PROPRIETORSHIP               1\n",
      "Name: var_d3, dtype: int64\n"
     ]
    },
    {
     "data": {
      "text/plain": [
       "<matplotlib.axes._subplots.AxesSubplot at 0x211a22167f0>"
      ]
     },
     "execution_count": 50,
     "metadata": {},
     "output_type": "execute_result"
    },
    {
     "data": {
      "image/png": "[encoded data removed]",
      "text/plain": [
       "<Figure size 432x288 with 1 Axes>"
      ]
     },
     "metadata": {
      "needs_background": "light"
     },
     "output_type": "display_data"
    }
   ],
   "source": [
    "print(df['var_d3'].value_counts())\n",
    "sns.countplot(x='var_d3',data=df)"
   ]
  },
  {
   "cell_type": "code",
   "execution_count": 52,
   "metadata": {},
   "outputs": [
    {
     "name": "stdout",
     "output_type": "stream",
     "text": [
      "Graduate          60296\n",
      "Post-Graduate     23399\n",
      "Others            11876\n",
      "Under Graduate    11436\n",
      "Professional        749\n",
      "Name: var_d4, dtype: int64\n"
     ]
    },
    {
     "data": {
      "text/plain": [
       "<matplotlib.axes._subplots.AxesSubplot at 0x211a2322048>"
      ]
     },
     "execution_count": 52,
     "metadata": {},
     "output_type": "execute_result"
    },
    {
     "data": {
      "image/png": "[encoded data removed]",
      "text/plain": [
       "<Figure size 432x288 with 1 Axes>"
      ]
     },
     "metadata": {
      "needs_background": "light"
     },
     "output_type": "display_data"
    }
   ],
   "source": [
    "print(df['var_d4'].value_counts())\n",
    "sns.countplot(x='var_d4',data=df)"
   ]
  },
  {
   "cell_type": "code",
   "execution_count": 53,
   "metadata": {},
   "outputs": [
    {
     "name": "stdout",
     "output_type": "stream",
     "text": [
      "M    86867\n",
      "F    15544\n",
      "O     5348\n",
      "Name: var_d5, dtype: int64\n"
     ]
    },
    {
     "data": {
      "text/plain": [
       "<matplotlib.axes._subplots.AxesSubplot at 0x211a23aa780>"
      ]
     },
     "execution_count": 53,
     "metadata": {},
     "output_type": "execute_result"
    },
    {
     "data": {
      "image/png": "[encoded data removed]",
      "text/plain": [
       "<Figure size 432x288 with 1 Axes>"
      ]
     },
     "metadata": {
      "needs_background": "light"
     },
     "output_type": "display_data"
    }
   ],
   "source": [
    "print(df['var_d5'].value_counts())\n",
    "sns.countplot(x='var_d5',data=df)"
   ]
  },
  {
   "cell_type": "code",
   "execution_count": 59,
   "metadata": {},
   "outputs": [
    {
     "name": "stdout",
     "output_type": "stream",
     "text": [
      "RESIDENT INDIAN                    101702\n",
      "PRIVATE LTD COMPANIES                2837\n",
      "PARTNERSHIP FIRM                     1569\n",
      "PUBLIC LTD COMPANIES                  797\n",
      "NON-RESIDENT INDIAN                   638\n",
      "TRUST                                  81\n",
      "HINDU UNDIVIDED FAMILY                 57\n",
      "TRUST-CLUBS/ASSN/SOC/SEC-25 CO.        52\n",
      "LIMITED LIABILITY PARTNERSHIP          10\n",
      "CO-OPERATIVE SOCIETIES                  6\n",
      "ASSOCIATION                             4\n",
      "TRUST-NGO                               4\n",
      "OVERSEAS CITIZEN OF INDIA               1\n",
      "SOLE PROPRIETORSHIP                     1\n",
      "Name: var_d6, dtype: int64\n"
     ]
    },
    {
     "data": {
      "text/plain": [
       "<matplotlib.axes._subplots.AxesSubplot at 0x211a2612208>"
      ]
     },
     "execution_count": 59,
     "metadata": {},
     "output_type": "execute_result"
    },
    {
     "data": {
      "image/png": "[encoded data removed]",
      "text/plain": [
       "<Figure size 432x288 with 1 Axes>"
      ]
     },
     "metadata": {
      "needs_background": "light"
     },
     "output_type": "display_data"
    }
   ],
   "source": [
    "print(df['var_d6'].value_counts())\n",
    "sns.countplot(x='var_d6',data=df,palette='Set2')"
   ]
  },
  {
   "cell_type": "code",
   "execution_count": 55,
   "metadata": {},
   "outputs": [
    {
     "name": "stdout",
     "output_type": "stream",
     "text": [
      "PROPRIETOR              34460\n",
      "SALARIED                33981\n",
      "SELF-EMPLOYED           11528\n",
      "OTHERS                   6944\n",
      "FIRST TIME USERS         3012\n",
      "SERVICES                 2640\n",
      "COMPANY                  2358\n",
      "SAL(RETIRAL AGE 60)      2204\n",
      "AGRICULTURIST            1373\n",
      "HOUSEWIFE                1058\n",
      "LARGE FLEET OPERATOR     1004\n",
      "DOCTOR-SELF EMPLOYED      745\n",
      "TRADING                   701\n",
      "CONTRACTOR                641\n",
      "DIRECTOR                  574\n",
      "SAL(RETIRAL AGE 58)       529\n",
      "PENSIONER                 444\n",
      "MANUFACTURING             396\n",
      "BUSINESSMAN               366\n",
      "TRADER                    303\n",
      "STRATEGIC TRANSPRTER      246\n",
      "STUDENT                   170\n",
      "AGENT                     142\n",
      "CONSULTANT                129\n",
      "DOCTOR-SALARIED           128\n",
      "MEDIUM FLEETOPERATOR      101\n",
      "RETAIL TRANSPORTER         88\n",
      "STRATEGIC CAPTIVE          85\n",
      "CARETAKER                  76\n",
      "RETAIL                     67\n",
      "                        ...  \n",
      "DRIVER                      4\n",
      "CLERK                       3\n",
      "TAILOR                      3\n",
      "NURSE                       3\n",
      "STRATEGIC BUS OP            3\n",
      "PLANTER                     2\n",
      "EXECUTIVE ASSISTANT         2\n",
      "CHAIRMAN                    2\n",
      "TAXI DRIVER                 2\n",
      "ENGINEERING                 2\n",
      "PHARMACIST                  2\n",
      "FISHERMAN                   2\n",
      "HELPER                      2\n",
      "SCHOOL>500                  2\n",
      "TECHNICIAN                  2\n",
      "RETAIL BUS OPERATOR         2\n",
      "SUPERVISOR                  2\n",
      "INDUSTRY                    2\n",
      "QUANTITY SURVEYOR           1\n",
      "PRIVATE TAILOR              1\n",
      "Trading                     1\n",
      "BUS CONTROLLER              1\n",
      "STOCKBROKER(S)-COMMD        1\n",
      "AUCTIONNER                  1\n",
      "DISPENSER                   1\n",
      "GARAGIST                    1\n",
      "ASSOCIATION                 1\n",
      "TYPIST                      1\n",
      "HAIRDRESSER                 1\n",
      "OPERATOR                    1\n",
      "Name: var_d7, Length: 94, dtype: int64\n"
     ]
    },
    {
     "data": {
      "text/plain": [
       "<matplotlib.axes._subplots.AxesSubplot at 0x211a2434128>"
      ]
     },
     "execution_count": 55,
     "metadata": {},
     "output_type": "execute_result"
    },
    {
     "data": {
      "image/png": "[encoded data removed]",
      "text/plain": [
       "<Figure size 432x288 with 1 Axes>"
      ]
     },
     "metadata": {
      "needs_background": "light"
     },
     "output_type": "display_data"
    }
   ],
   "source": [
    "print(df['var_d7'].value_counts())\n",
    "sns.countplot(x='var_d7',data=df)"
   ]
  },
  {
   "cell_type": "code",
   "execution_count": 56,
   "metadata": {},
   "outputs": [
    {
     "name": "stdout",
     "output_type": "stream",
     "text": [
      "Y    65306\n",
      "N    42453\n",
      "Name: var_d8, dtype: int64\n"
     ]
    },
    {
     "data": {
      "text/plain": [
       "<matplotlib.axes._subplots.AxesSubplot at 0x211a2597be0>"
      ]
     },
     "execution_count": 56,
     "metadata": {},
     "output_type": "execute_result"
    },
    {
     "data": {
      "image/png": "[encoded data removed]",
      "text/plain": [
       "<Figure size 432x288 with 1 Axes>"
      ]
     },
     "metadata": {
      "needs_background": "light"
     },
     "output_type": "display_data"
    }
   ],
   "source": [
    "print(df['var_d8'].value_counts())\n",
    "sns.countplot(x='var_d8',data=df)"
   ]
  },
  {
   "cell_type": "code",
   "execution_count": 57,
   "metadata": {},
   "outputs": [
    {
     "name": "stdout",
     "output_type": "stream",
     "text": [
      "N    95544\n",
      "U    13396\n",
      "Name: var_d11, dtype: int64\n"
     ]
    },
    {
     "data": {
      "text/plain": [
       "<matplotlib.axes._subplots.AxesSubplot at 0x211a25e07b8>"
      ]
     },
     "execution_count": 57,
     "metadata": {},
     "output_type": "execute_result"
    },
    {
     "data": {
      "image/png": "[encoded data removed]",
      "text/plain": [
       "<Figure size 432x288 with 1 Axes>"
      ]
     },
     "metadata": {
      "needs_background": "light"
     },
     "output_type": "display_data"
    }
   ],
   "source": [
    "print(df['var_d11'].value_counts())\n",
    "sns.countplot(x='var_d11',data=df)"
   ]
  },
  {
   "cell_type": "code",
   "execution_count": 39,
   "metadata": {},
   "outputs": [
    {
     "name": "stdout",
     "output_type": "stream",
     "text": [
      "Percent of missing \"var_d1\" records is 37.73%\n"
     ]
    }
   ],
   "source": [
    "#percentage of missing var_d1\n",
    "print('Percent of missing \"var_d1\" records is %.2f%%' %((df['var_d1'].isnull().sum()/df.shape[0])*100))"
   ]
  },
  {
   "cell_type": "code",
   "execution_count": null,
   "metadata": {},
   "outputs": [],
   "source": []
  },
  {
   "cell_type": "code",
   "execution_count": null,
   "metadata": {},
   "outputs": [],
   "source": []
  },
  {
   "cell_type": "code",
   "execution_count": null,
   "metadata": {},
   "outputs": [],
   "source": []
  }
 ],
 "metadata": {
  "kernelspec": {
   "display_name": "Python 3",
   "language": "python",
   "name": "python3"
  },
  "language_info": {
   "codemirror_mode": {
    "name": "ipython",
    "version": 3
   },
   "file_extension": ".py",
   "mimetype": "text/x-python",
   "name": "python",
   "nbconvert_exporter": "python",
   "pygments_lexer": "ipython3",
   "version": "3.5.2"
  }
 },
 "nbformat": 4,
 "nbformat_minor": 2
}
